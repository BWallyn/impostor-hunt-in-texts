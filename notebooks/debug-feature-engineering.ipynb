{
 "cells": [
  {
   "cell_type": "markdown",
   "id": "529b1608",
   "metadata": {},
   "source": [
    "# Debug feature engineering"
   ]
  },
  {
   "cell_type": "markdown",
   "id": "329a45ac",
   "metadata": {},
   "source": [
    "# 1. Imports"
   ]
  },
  {
   "cell_type": "markdown",
   "id": "8abb89f6",
   "metadata": {},
   "source": [
    "## 1.1 Packages"
   ]
  },
  {
   "cell_type": "code",
   "execution_count": 1,
   "id": "58a334cf",
   "metadata": {},
   "outputs": [],
   "source": [
    "import pandas as pd"
   ]
  },
  {
   "cell_type": "markdown",
   "id": "a378a40f",
   "metadata": {},
   "source": [
    "\n",
    "## 1.2 Options"
   ]
  },
  {
   "cell_type": "code",
   "execution_count": null,
   "id": "7313cb07",
   "metadata": {},
   "outputs": [],
   "source": []
  },
  {
   "cell_type": "markdown",
   "id": "92fcbda5",
   "metadata": {},
   "source": [
    "## 1.3 Datasets"
   ]
  },
  {
   "cell_type": "code",
   "execution_count": 2,
   "id": "4c5d9190",
   "metadata": {},
   "outputs": [],
   "source": [
    "# dict_metadata_datasets = pd.read_pickle(\"../data/02_intermediate/dict_metadata_datasets.pkl\")"
   ]
  },
  {
   "cell_type": "markdown",
   "id": "a1a90df8",
   "metadata": {},
   "source": [
    "## 1.4 Functions"
   ]
  },
  {
   "cell_type": "code",
   "execution_count": 3,
   "id": "d963e276",
   "metadata": {},
   "outputs": [
    {
     "name": "stderr",
     "output_type": "stream",
     "text": [
      "/Users/benjaminwallyn/Git/impostor-hunt-in-texts/.venv/lib/python3.13/site-packages/tqdm/auto.py:21: TqdmWarning: IProgress not found. Please update jupyter and ipywidgets. See https://ipywidgets.readthedocs.io/en/stable/user_install.html\n",
      "  from .autonotebook import tqdm as notebook_tqdm\n"
     ]
    }
   ],
   "source": [
    "from impostor_hunt_in_texts.pipelines.feature_engineering.nodes import (\n",
    "    extract_features,\n",
    "    load_model_and_tokenizer,\n",
    ")\n",
    "from impostor_hunt_in_texts.utils.utils import load_hf_datasetdict, split_dataset_dict"
   ]
  },
  {
   "cell_type": "markdown",
   "id": "c1e4b3d0",
   "metadata": {},
   "source": [
    "# 2. Feature engineering"
   ]
  },
  {
   "cell_type": "code",
   "execution_count": 4,
   "id": "ea4dad05",
   "metadata": {},
   "outputs": [],
   "source": [
    "dict_metadata_datasets = {\"save_path\": \"../data/02_intermediate/dict_datasets\"}"
   ]
  },
  {
   "cell_type": "code",
   "execution_count": 5,
   "id": "7ba3ed11",
   "metadata": {},
   "outputs": [],
   "source": [
    "dataset_dict = load_hf_datasetdict(dict_metadata_datasets)\n",
    "dataset_train, dataset_test = split_dataset_dict(dataset_dict)"
   ]
  },
  {
   "cell_type": "code",
   "execution_count": 6,
   "id": "324891dc",
   "metadata": {},
   "outputs": [],
   "source": [
    "model, tokenizer = load_model_and_tokenizer(\"bert-base-uncased\")"
   ]
  },
  {
   "cell_type": "code",
   "execution_count": 7,
   "id": "9bcad3dc",
   "metadata": {},
   "outputs": [
    {
     "name": "stderr",
     "output_type": "stream",
     "text": [
      "Extracting features: 100%|██████████| 95/95 [00:36<00:00,  2.60it/s]\n"
     ]
    }
   ],
   "source": [
    "dataset_train_features, train_ids = extract_features(\n",
    "    dataset=dataset_train,\n",
    "    model=model,\n",
    "    tokenizer=tokenizer,\n",
    "    max_length=512,\n",
    "    stride=216,\n",
    "    device=\"cpu\",\n",
    ")"
   ]
  },
  {
   "cell_type": "code",
   "execution_count": 8,
   "id": "a700de18",
   "metadata": {},
   "outputs": [
    {
     "data": {
      "text/plain": [
       "array([[-1.8221563e-01,  1.8503173e-01,  2.6603371e-01, ...,\n",
       "         1.9781753e-02,  5.7555810e-03,  1.6396128e-03],\n",
       "       [-1.6375388e-01,  3.2518438e-01,  4.7533748e-01, ...,\n",
       "         3.5610597e-04, -3.1663883e-03, -7.9679349e-03],\n",
       "       [-1.8221563e-01,  1.8503173e-01,  2.6603371e-01, ...,\n",
       "         1.9781753e-02,  5.7555810e-03,  1.6396128e-03],\n",
       "       ...,\n",
       "       [-1.6375388e-01,  3.2518438e-01,  4.7533748e-01, ...,\n",
       "         3.5610597e-04, -3.1663883e-03, -7.9679349e-03],\n",
       "       [-1.6375388e-01,  3.2518438e-01,  4.7533748e-01, ...,\n",
       "         3.5610597e-04, -3.1663883e-03, -7.9679349e-03],\n",
       "       [-1.8221563e-01,  1.8503173e-01,  2.6603371e-01, ...,\n",
       "         1.9781753e-02,  5.7555810e-03,  1.6396128e-03]],\n",
       "      shape=(95, 3072), dtype=float32)"
      ]
     },
     "execution_count": 8,
     "metadata": {},
     "output_type": "execute_result"
    }
   ],
   "source": [
    "dataset_train_features"
   ]
  },
  {
   "cell_type": "code",
   "execution_count": null,
   "id": "cd6bc60a",
   "metadata": {},
   "outputs": [],
   "source": []
  }
 ],
 "metadata": {
  "kernelspec": {
   "display_name": ".venv (3.13.2)",
   "language": "python",
   "name": "python3"
  },
  "language_info": {
   "codemirror_mode": {
    "name": "ipython",
    "version": 3
   },
   "file_extension": ".py",
   "mimetype": "text/x-python",
   "name": "python",
   "nbconvert_exporter": "python",
   "pygments_lexer": "ipython3",
   "version": "3.13.2"
  }
 },
 "nbformat": 4,
 "nbformat_minor": 5
}
