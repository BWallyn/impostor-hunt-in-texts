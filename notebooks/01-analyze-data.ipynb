{
 "cells": [
  {
   "cell_type": "markdown",
   "id": "529b1608",
   "metadata": {},
   "source": [
    "# Analyze data"
   ]
  },
  {
   "cell_type": "markdown",
   "id": "329a45ac",
   "metadata": {},
   "source": [
    "# 1. Imports"
   ]
  },
  {
   "cell_type": "markdown",
   "id": "8abb89f6",
   "metadata": {},
   "source": [
    "## 1.1 Packages"
   ]
  },
  {
   "cell_type": "code",
   "execution_count": 1,
   "id": "58a334cf",
   "metadata": {},
   "outputs": [
    {
     "name": "stderr",
     "output_type": "stream",
     "text": [
      "/Users/benjaminwallyn/Git/impostor-hunt-in-texts/.venv/lib/python3.13/site-packages/tqdm/auto.py:21: TqdmWarning: IProgress not found. Please update jupyter and ipywidgets. See https://ipywidgets.readthedocs.io/en/stable/user_install.html\n",
      "  from .autonotebook import tqdm as notebook_tqdm\n"
     ]
    }
   ],
   "source": [
    "import os\n",
    "import pandas as pd\n",
    "\n",
    "import re\n",
    "\n",
    "from datasets import Dataset"
   ]
  },
  {
   "cell_type": "markdown",
   "id": "a378a40f",
   "metadata": {},
   "source": [
    "\n",
    "## 1.2 Options"
   ]
  },
  {
   "cell_type": "code",
   "execution_count": 2,
   "id": "7313cb07",
   "metadata": {},
   "outputs": [],
   "source": [
    "path_data = \"../data/01_raw\"\n",
    "path_data_train = os.path.join(path_data, \"train\")\n",
    "path_data_test = os.path.join(path_data, \"test\")"
   ]
  },
  {
   "cell_type": "markdown",
   "id": "92fcbda5",
   "metadata": {},
   "source": [
    "## 1.3 Datasets"
   ]
  },
  {
   "cell_type": "code",
   "execution_count": null,
   "id": "4c5d9190",
   "metadata": {},
   "outputs": [],
   "source": []
  },
  {
   "cell_type": "markdown",
   "id": "c1e4b3d0",
   "metadata": {},
   "source": [
    "# 2. Analyze data"
   ]
  },
  {
   "cell_type": "code",
   "execution_count": 3,
   "id": "edd684a8",
   "metadata": {},
   "outputs": [],
   "source": [
    "df = pd.read_csv(os.path.join(path_data, \"train.csv\"), index_col=0)"
   ]
  },
  {
   "cell_type": "code",
   "execution_count": 4,
   "id": "31a0dcfb",
   "metadata": {},
   "outputs": [
    {
     "data": {
      "text/html": [
       "<div>\n",
       "<style scoped>\n",
       "    .dataframe tbody tr th:only-of-type {\n",
       "        vertical-align: middle;\n",
       "    }\n",
       "\n",
       "    .dataframe tbody tr th {\n",
       "        vertical-align: top;\n",
       "    }\n",
       "\n",
       "    .dataframe thead th {\n",
       "        text-align: right;\n",
       "    }\n",
       "</style>\n",
       "<table border=\"1\" class=\"dataframe\">\n",
       "  <thead>\n",
       "    <tr style=\"text-align: right;\">\n",
       "      <th></th>\n",
       "      <th>real_text_id</th>\n",
       "    </tr>\n",
       "    <tr>\n",
       "      <th>id</th>\n",
       "      <th></th>\n",
       "    </tr>\n",
       "  </thead>\n",
       "  <tbody>\n",
       "    <tr>\n",
       "      <th>0</th>\n",
       "      <td>1</td>\n",
       "    </tr>\n",
       "    <tr>\n",
       "      <th>1</th>\n",
       "      <td>2</td>\n",
       "    </tr>\n",
       "    <tr>\n",
       "      <th>2</th>\n",
       "      <td>1</td>\n",
       "    </tr>\n",
       "    <tr>\n",
       "      <th>3</th>\n",
       "      <td>2</td>\n",
       "    </tr>\n",
       "    <tr>\n",
       "      <th>4</th>\n",
       "      <td>2</td>\n",
       "    </tr>\n",
       "    <tr>\n",
       "      <th>...</th>\n",
       "      <td>...</td>\n",
       "    </tr>\n",
       "    <tr>\n",
       "      <th>90</th>\n",
       "      <td>2</td>\n",
       "    </tr>\n",
       "    <tr>\n",
       "      <th>91</th>\n",
       "      <td>1</td>\n",
       "    </tr>\n",
       "    <tr>\n",
       "      <th>92</th>\n",
       "      <td>2</td>\n",
       "    </tr>\n",
       "    <tr>\n",
       "      <th>93</th>\n",
       "      <td>2</td>\n",
       "    </tr>\n",
       "    <tr>\n",
       "      <th>94</th>\n",
       "      <td>1</td>\n",
       "    </tr>\n",
       "  </tbody>\n",
       "</table>\n",
       "<p>95 rows × 1 columns</p>\n",
       "</div>"
      ],
      "text/plain": [
       "    real_text_id\n",
       "id              \n",
       "0              1\n",
       "1              2\n",
       "2              1\n",
       "3              2\n",
       "4              2\n",
       "..           ...\n",
       "90             2\n",
       "91             1\n",
       "92             2\n",
       "93             2\n",
       "94             1\n",
       "\n",
       "[95 rows x 1 columns]"
      ]
     },
     "execution_count": 4,
     "metadata": {},
     "output_type": "execute_result"
    }
   ],
   "source": [
    "df"
   ]
  },
  {
   "cell_type": "code",
   "execution_count": 9,
   "id": "571a830a",
   "metadata": {},
   "outputs": [],
   "source": [
    "def generate_dataset_train(df: pd.DataFrame, path_data: str):\n",
    "    \"\"\"Generate a dataset from the DataFrame and text files in the specified directory.\n",
    "    \n",
    "    Args:\n",
    "        df (pd.DataFrame): DataFrame containing 'id', 'text1', and 'text2' columns.\n",
    "        path_data (str): The path to the directory containing the text files.\n",
    "\n",
    "    Returns:\n",
    "        Yield dictionaries of (id, text1, text2).\n",
    "    \"\"\"\n",
    "    for _, row in df.iterrows():\n",
    "        folder_id = row['real_text_id']\n",
    "        folder_path = os.path.join(path_data, f\"article_{folder_id:04d}\")\n",
    "\n",
    "        file1_path = os.path.join(folder_path, \"file_1.txt\")\n",
    "        file2_path = os.path.join(folder_path, \"file_2.txt\")\n",
    "\n",
    "        with open(file1_path, encoding=\"utf-8\") as f1:\n",
    "            text1 = f1.read()\n",
    "        with open(file2_path, encoding=\"utf-8\") as f2:\n",
    "            text2 = f2.read()\n",
    "    \n",
    "        yield {\n",
    "            \"id\": folder_id,\n",
    "            \"text1\": text1,\n",
    "            \"text2\": text2\n",
    "        }\n",
    "\n",
    "\n",
    "def generate_dataset_test(path_data: str):\n",
    "    \"\"\"Generate a dataset from the text files in the specified directory.\n",
    "    \n",
    "    Args:\n",
    "        path_data (str): The path to the directory containing the text files.\n",
    "\n",
    "    Returns:\n",
    "        Yield dictionaries of (text1, text2).\n",
    "    \"\"\"\n",
    "    # Get list of folders matching the pattern \"article_\"\n",
    "    folders = sorted([\n",
    "        f for f in os.listdir(path_data)\n",
    "        if os.path.isdir(os.path.join(path_data, f)) and re.match(r'article_\\d+', f)\n",
    "    ])\n",
    "\n",
    "    # Get text files in each folder\n",
    "    for folder in folders:\n",
    "        folder_id = int(folder.split('_')[1])\n",
    "        folder_path = os.path.join(path_data, folder)\n",
    "\n",
    "        file1_path = os.path.join(folder_path, \"file_1.txt\")\n",
    "        file2_path = os.path.join(folder_path, \"file_2.txt\")\n",
    "\n",
    "        with open(file1_path, encoding=\"utf-8\") as f1:\n",
    "            text1 = f1.read()\n",
    "        with open(file2_path, encoding=\"utf-8\") as f2:\n",
    "            text2 = f2.read()\n",
    "    \n",
    "        yield {\n",
    "            \"id\": folder_id,\n",
    "            \"text1\": text1,\n",
    "            \"text2\": text2\n",
    "        }"
   ]
  },
  {
   "cell_type": "code",
   "execution_count": 10,
   "id": "63d9aa90",
   "metadata": {},
   "outputs": [
    {
     "name": "stderr",
     "output_type": "stream",
     "text": [
      "Generating train split: 95 examples [00:00, 7976.52 examples/s]\n",
      "Generating train split: 1068 examples [00:00, 7411.46 examples/s]\n"
     ]
    }
   ],
   "source": [
    "train_dataset = Dataset.from_generator(lambda: generate_dataset_train(df, path_data_train))\n",
    "test_dataset = Dataset.from_generator(lambda: generate_dataset_test(path_data_test))"
   ]
  },
  {
   "cell_type": "code",
   "execution_count": 11,
   "id": "35da1a5d",
   "metadata": {},
   "outputs": [
    {
     "data": {
      "text/plain": [
       "Dataset({\n",
       "    features: ['id', 'text1', 'text2'],\n",
       "    num_rows: 95\n",
       "})"
      ]
     },
     "execution_count": 11,
     "metadata": {},
     "output_type": "execute_result"
    }
   ],
   "source": [
    "train_dataset"
   ]
  },
  {
   "cell_type": "code",
   "execution_count": null,
   "id": "7ba3ed11",
   "metadata": {},
   "outputs": [],
   "source": []
  }
 ],
 "metadata": {
  "kernelspec": {
   "display_name": ".venv",
   "language": "python",
   "name": "python3"
  },
  "language_info": {
   "codemirror_mode": {
    "name": "ipython",
    "version": 3
   },
   "file_extension": ".py",
   "mimetype": "text/x-python",
   "name": "python",
   "nbconvert_exporter": "python",
   "pygments_lexer": "ipython3",
   "version": "3.13.2"
  }
 },
 "nbformat": 4,
 "nbformat_minor": 5
}
