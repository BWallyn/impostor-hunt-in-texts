{
 "cells": [
  {
   "cell_type": "markdown",
   "id": "8e88eeba",
   "metadata": {},
   "source": [
    "# Debug model training pipeline"
   ]
  },
  {
   "cell_type": "markdown",
   "id": "6bc5c087",
   "metadata": {},
   "source": [
    "# 1. Imports"
   ]
  },
  {
   "cell_type": "markdown",
   "id": "f00ae5ca",
   "metadata": {},
   "source": [
    "## 1.1 Packages"
   ]
  },
  {
   "cell_type": "code",
   "execution_count": 1,
   "id": "afbc8fcf",
   "metadata": {},
   "outputs": [],
   "source": [
    "import pandas as pd"
   ]
  },
  {
   "cell_type": "markdown",
   "id": "db160dfb",
   "metadata": {},
   "source": [
    "## 1.2 Options"
   ]
  },
  {
   "cell_type": "code",
   "execution_count": 2,
   "id": "1b711aa7",
   "metadata": {},
   "outputs": [],
   "source": [
    "model_name = \"RandomForestClassifier\"\n",
    "pca_n_components = 10\n",
    "search_space = {\n",
    "    \"n_estimators\": {\n",
    "        \"min\": 10,\n",
    "        \"max\": 1000,\n",
    "        \"sampling_type\": \"int\",\n",
    "    },\n",
    "    \"max_depth\": {\n",
    "        \"min\": 2,\n",
    "        \"max\": 10,\n",
    "        \"sampling_type\": \"int\",\n",
    "    },\n",
    "    \"min_samples_split\": {\n",
    "        \"min\": 2,\n",
    "        \"max\": 10,\n",
    "        \"sampling_type\": \"int\",\n",
    "    },\n",
    "    \"max_features\": {\n",
    "        \"choices\": [\"sqrt\", \"log2\"],\n",
    "        \"sampling_type\": \"categorical\",\n",
    "    },\n",
    "}"
   ]
  },
  {
   "cell_type": "markdown",
   "id": "636248e8",
   "metadata": {},
   "source": [
    "## 1.3 Functions"
   ]
  },
  {
   "cell_type": "code",
   "execution_count": 3,
   "id": "ea0e8c16",
   "metadata": {},
   "outputs": [
    {
     "name": "stderr",
     "output_type": "stream",
     "text": [
      "/Users/benjaminwallyn/Git/impostor-hunt-in-texts/.venv/lib/python3.13/site-packages/tqdm/auto.py:21: TqdmWarning: IProgress not found. Please update jupyter and ipywidgets. See https://ipywidgets.readthedocs.io/en/stable/user_install.html\n",
      "  from .autonotebook import tqdm as notebook_tqdm\n"
     ]
    }
   ],
   "source": [
    "from impostor_hunt_in_texts.pipelines.model_training.model_params import (\n",
    "    ModelParams,\n",
    ")"
   ]
  },
  {
   "cell_type": "markdown",
   "id": "0c01859b",
   "metadata": {},
   "source": [
    "## 1.4 Datasets"
   ]
  },
  {
   "cell_type": "code",
   "execution_count": 4,
   "id": "1ef6a2f3",
   "metadata": {},
   "outputs": [],
   "source": [
    "df_train = pd.read_parquet(\"../data/05_model_input/df_train_features.parquet\")"
   ]
  },
  {
   "cell_type": "code",
   "execution_count": 5,
   "id": "60195da7",
   "metadata": {},
   "outputs": [
    {
     "data": {
      "text/html": [
       "<div>\n",
       "<style scoped>\n",
       "    .dataframe tbody tr th:only-of-type {\n",
       "        vertical-align: middle;\n",
       "    }\n",
       "\n",
       "    .dataframe tbody tr th {\n",
       "        vertical-align: top;\n",
       "    }\n",
       "\n",
       "    .dataframe thead th {\n",
       "        text-align: right;\n",
       "    }\n",
       "</style>\n",
       "<table border=\"1\" class=\"dataframe\">\n",
       "  <thead>\n",
       "    <tr style=\"text-align: right;\">\n",
       "      <th></th>\n",
       "      <th>id</th>\n",
       "      <th>token_feat_0</th>\n",
       "      <th>token_feat_1</th>\n",
       "      <th>token_feat_2</th>\n",
       "      <th>token_feat_3</th>\n",
       "      <th>token_feat_4</th>\n",
       "      <th>token_feat_5</th>\n",
       "      <th>token_feat_6</th>\n",
       "      <th>token_feat_7</th>\n",
       "      <th>token_feat_8</th>\n",
       "      <th>...</th>\n",
       "      <th>token_feat_3062</th>\n",
       "      <th>token_feat_3063</th>\n",
       "      <th>token_feat_3064</th>\n",
       "      <th>token_feat_3065</th>\n",
       "      <th>token_feat_3066</th>\n",
       "      <th>token_feat_3067</th>\n",
       "      <th>token_feat_3068</th>\n",
       "      <th>token_feat_3069</th>\n",
       "      <th>token_feat_3070</th>\n",
       "      <th>token_feat_3071</th>\n",
       "    </tr>\n",
       "  </thead>\n",
       "  <tbody>\n",
       "    <tr>\n",
       "      <th>0</th>\n",
       "      <td>0.0</td>\n",
       "      <td>-0.235974</td>\n",
       "      <td>0.215428</td>\n",
       "      <td>0.530858</td>\n",
       "      <td>-0.108299</td>\n",
       "      <td>0.283128</td>\n",
       "      <td>-0.182255</td>\n",
       "      <td>-0.132632</td>\n",
       "      <td>0.252540</td>\n",
       "      <td>-0.070826</td>\n",
       "      <td>...</td>\n",
       "      <td>0.030745</td>\n",
       "      <td>0.001176</td>\n",
       "      <td>0.001116</td>\n",
       "      <td>0.065424</td>\n",
       "      <td>0.035792</td>\n",
       "      <td>0.233748</td>\n",
       "      <td>0.023147</td>\n",
       "      <td>-0.003413</td>\n",
       "      <td>0.009224</td>\n",
       "      <td>0.000235</td>\n",
       "    </tr>\n",
       "    <tr>\n",
       "      <th>1</th>\n",
       "      <td>1.0</td>\n",
       "      <td>-0.184129</td>\n",
       "      <td>0.191412</td>\n",
       "      <td>0.287647</td>\n",
       "      <td>-0.010728</td>\n",
       "      <td>0.281830</td>\n",
       "      <td>-0.010582</td>\n",
       "      <td>0.092494</td>\n",
       "      <td>0.235936</td>\n",
       "      <td>-0.020136</td>\n",
       "      <td>...</td>\n",
       "      <td>0.039444</td>\n",
       "      <td>0.001199</td>\n",
       "      <td>-0.000591</td>\n",
       "      <td>0.005231</td>\n",
       "      <td>0.026553</td>\n",
       "      <td>0.174157</td>\n",
       "      <td>-0.010427</td>\n",
       "      <td>0.021792</td>\n",
       "      <td>0.004784</td>\n",
       "      <td>0.001479</td>\n",
       "    </tr>\n",
       "    <tr>\n",
       "      <th>2</th>\n",
       "      <td>2.0</td>\n",
       "      <td>-0.163754</td>\n",
       "      <td>0.325184</td>\n",
       "      <td>0.475337</td>\n",
       "      <td>-0.124496</td>\n",
       "      <td>0.336826</td>\n",
       "      <td>-0.098111</td>\n",
       "      <td>0.001948</td>\n",
       "      <td>0.481946</td>\n",
       "      <td>-0.052951</td>\n",
       "      <td>...</td>\n",
       "      <td>0.027463</td>\n",
       "      <td>-0.001525</td>\n",
       "      <td>-0.008738</td>\n",
       "      <td>-0.005016</td>\n",
       "      <td>0.034096</td>\n",
       "      <td>0.202270</td>\n",
       "      <td>0.010722</td>\n",
       "      <td>0.000356</td>\n",
       "      <td>-0.003166</td>\n",
       "      <td>-0.007968</td>\n",
       "    </tr>\n",
       "    <tr>\n",
       "      <th>3</th>\n",
       "      <td>3.0</td>\n",
       "      <td>-0.105008</td>\n",
       "      <td>0.288435</td>\n",
       "      <td>0.409958</td>\n",
       "      <td>-0.061246</td>\n",
       "      <td>0.352177</td>\n",
       "      <td>-0.101375</td>\n",
       "      <td>0.046904</td>\n",
       "      <td>0.460946</td>\n",
       "      <td>0.046344</td>\n",
       "      <td>...</td>\n",
       "      <td>0.072438</td>\n",
       "      <td>0.012477</td>\n",
       "      <td>-0.004805</td>\n",
       "      <td>0.020615</td>\n",
       "      <td>0.040837</td>\n",
       "      <td>0.132445</td>\n",
       "      <td>0.043434</td>\n",
       "      <td>0.011009</td>\n",
       "      <td>-0.001763</td>\n",
       "      <td>-0.003195</td>\n",
       "    </tr>\n",
       "    <tr>\n",
       "      <th>4</th>\n",
       "      <td>4.0</td>\n",
       "      <td>0.086316</td>\n",
       "      <td>-0.001653</td>\n",
       "      <td>0.401914</td>\n",
       "      <td>0.163260</td>\n",
       "      <td>0.281869</td>\n",
       "      <td>-0.241231</td>\n",
       "      <td>-0.074710</td>\n",
       "      <td>0.896416</td>\n",
       "      <td>-0.319564</td>\n",
       "      <td>...</td>\n",
       "      <td>0.016326</td>\n",
       "      <td>-0.071852</td>\n",
       "      <td>-0.044551</td>\n",
       "      <td>0.003944</td>\n",
       "      <td>0.028465</td>\n",
       "      <td>0.044221</td>\n",
       "      <td>-0.003464</td>\n",
       "      <td>-0.007189</td>\n",
       "      <td>-0.001023</td>\n",
       "      <td>-0.001313</td>\n",
       "    </tr>\n",
       "  </tbody>\n",
       "</table>\n",
       "<p>5 rows × 3073 columns</p>\n",
       "</div>"
      ],
      "text/plain": [
       "    id  token_feat_0  token_feat_1  token_feat_2  token_feat_3  token_feat_4  \\\n",
       "0  0.0     -0.235974      0.215428      0.530858     -0.108299      0.283128   \n",
       "1  1.0     -0.184129      0.191412      0.287647     -0.010728      0.281830   \n",
       "2  2.0     -0.163754      0.325184      0.475337     -0.124496      0.336826   \n",
       "3  3.0     -0.105008      0.288435      0.409958     -0.061246      0.352177   \n",
       "4  4.0      0.086316     -0.001653      0.401914      0.163260      0.281869   \n",
       "\n",
       "   token_feat_5  token_feat_6  token_feat_7  token_feat_8  ...  \\\n",
       "0     -0.182255     -0.132632      0.252540     -0.070826  ...   \n",
       "1     -0.010582      0.092494      0.235936     -0.020136  ...   \n",
       "2     -0.098111      0.001948      0.481946     -0.052951  ...   \n",
       "3     -0.101375      0.046904      0.460946      0.046344  ...   \n",
       "4     -0.241231     -0.074710      0.896416     -0.319564  ...   \n",
       "\n",
       "   token_feat_3062  token_feat_3063  token_feat_3064  token_feat_3065  \\\n",
       "0         0.030745         0.001176         0.001116         0.065424   \n",
       "1         0.039444         0.001199        -0.000591         0.005231   \n",
       "2         0.027463        -0.001525        -0.008738        -0.005016   \n",
       "3         0.072438         0.012477        -0.004805         0.020615   \n",
       "4         0.016326        -0.071852        -0.044551         0.003944   \n",
       "\n",
       "   token_feat_3066  token_feat_3067  token_feat_3068  token_feat_3069  \\\n",
       "0         0.035792         0.233748         0.023147        -0.003413   \n",
       "1         0.026553         0.174157        -0.010427         0.021792   \n",
       "2         0.034096         0.202270         0.010722         0.000356   \n",
       "3         0.040837         0.132445         0.043434         0.011009   \n",
       "4         0.028465         0.044221        -0.003464        -0.007189   \n",
       "\n",
       "   token_feat_3070  token_feat_3071  \n",
       "0         0.009224         0.000235  \n",
       "1         0.004784         0.001479  \n",
       "2        -0.003166        -0.007968  \n",
       "3        -0.001763        -0.003195  \n",
       "4        -0.001023        -0.001313  \n",
       "\n",
       "[5 rows x 3073 columns]"
      ]
     },
     "execution_count": 5,
     "metadata": {},
     "output_type": "execute_result"
    }
   ],
   "source": [
    "df_train.head(5)"
   ]
  },
  {
   "cell_type": "markdown",
   "id": "47e5e85b",
   "metadata": {},
   "source": [
    "# 2. Debug"
   ]
  },
  {
   "cell_type": "code",
   "execution_count": 3,
   "id": "055ff2f5",
   "metadata": {},
   "outputs": [
    {
     "data": {
      "text/plain": [
       "ModelParams(model_name='RandomForestClassifier', pca_n_components=10, search_params={'n_estimators': {'min': 10, 'max': 1000, 'sampling_type': 'int'}, 'max_depth': {'min': 2, 'max': 10, 'sampling_type': 'int'}, 'min_samples_split': {'min': 2, 'max': 10, 'sampling_type': 'int'}, 'max_features': {'choices': ['sqrt', 'log2'], 'sampling_type': 'categorical'}})"
      ]
     },
     "execution_count": 3,
     "metadata": {},
     "output_type": "execute_result"
    }
   ],
   "source": [
    "ModelParams(\n",
    "    model_name=model_name,\n",
    "    pca_n_components=pca_n_components,\n",
    "    search_params=search_space,\n",
    ")"
   ]
  },
  {
   "cell_type": "code",
   "execution_count": null,
   "id": "9bb34ac0",
   "metadata": {},
   "outputs": [],
   "source": []
  },
  {
   "cell_type": "code",
   "execution_count": null,
   "id": "0d044340",
   "metadata": {},
   "outputs": [],
   "source": []
  }
 ],
 "metadata": {
  "kernelspec": {
   "display_name": ".venv (3.13.2)",
   "language": "python",
   "name": "python3"
  },
  "language_info": {
   "codemirror_mode": {
    "name": "ipython",
    "version": 3
   },
   "file_extension": ".py",
   "mimetype": "text/x-python",
   "name": "python",
   "nbconvert_exporter": "python",
   "pygments_lexer": "ipython3",
   "version": "3.13.2"
  }
 },
 "nbformat": 4,
 "nbformat_minor": 5
}
