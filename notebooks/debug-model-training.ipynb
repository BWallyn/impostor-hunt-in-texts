{
 "cells": [
  {
   "cell_type": "markdown",
   "id": "8e88eeba",
   "metadata": {},
   "source": [
    "# Debug model training pipeline"
   ]
  },
  {
   "cell_type": "markdown",
   "id": "6bc5c087",
   "metadata": {},
   "source": [
    "# 1. Imports"
   ]
  },
  {
   "cell_type": "markdown",
   "id": "f00ae5ca",
   "metadata": {},
   "source": [
    "## 1.1 Packages"
   ]
  },
  {
   "cell_type": "code",
   "execution_count": null,
   "id": "afbc8fcf",
   "metadata": {},
   "outputs": [],
   "source": []
  },
  {
   "cell_type": "markdown",
   "id": "db160dfb",
   "metadata": {},
   "source": [
    "## 1.2 Options"
   ]
  },
  {
   "cell_type": "code",
   "execution_count": 1,
   "id": "1b711aa7",
   "metadata": {},
   "outputs": [],
   "source": [
    "model_name = \"RandomForestClassifier\"\n",
    "pca_n_components = 10\n",
    "search_space = {\n",
    "    \"n_estimators\": {\n",
    "        \"min\": 10,\n",
    "        \"max\": 1000,\n",
    "        \"sampling_type\": \"int\",\n",
    "    },\n",
    "    \"max_depth\": {\n",
    "        \"min\": 2,\n",
    "        \"max\": 10,\n",
    "        \"sampling_type\": \"int\",\n",
    "    },\n",
    "    \"min_samples_split\": {\n",
    "        \"min\": 2,\n",
    "        \"max\": 10,\n",
    "        \"sampling_type\": \"int\",\n",
    "    },\n",
    "    \"max_features\": {\n",
    "        \"choices\": [\"sqrt\", \"log2\"],\n",
    "        \"sampling_type\": \"categorical\",\n",
    "    },\n",
    "}"
   ]
  },
  {
   "cell_type": "markdown",
   "id": "636248e8",
   "metadata": {},
   "source": [
    "## 1.3 Functions"
   ]
  },
  {
   "cell_type": "code",
   "execution_count": 2,
   "id": "ea0e8c16",
   "metadata": {},
   "outputs": [
    {
     "name": "stderr",
     "output_type": "stream",
     "text": [
      "/Users/benjaminwallyn/Git/impostor-hunt-in-texts/.venv/lib/python3.13/site-packages/tqdm/auto.py:21: TqdmWarning: IProgress not found. Please update jupyter and ipywidgets. See https://ipywidgets.readthedocs.io/en/stable/user_install.html\n",
      "  from .autonotebook import tqdm as notebook_tqdm\n"
     ]
    }
   ],
   "source": [
    "from impostor_hunt_in_texts.pipelines.model_training.model_params import (\n",
    "    ModelParams,\n",
    ")"
   ]
  },
  {
   "cell_type": "markdown",
   "id": "0c01859b",
   "metadata": {},
   "source": [
    "## 1.4 Datasets"
   ]
  },
  {
   "cell_type": "code",
   "execution_count": null,
   "id": "1ef6a2f3",
   "metadata": {},
   "outputs": [],
   "source": []
  },
  {
   "cell_type": "markdown",
   "id": "47e5e85b",
   "metadata": {},
   "source": [
    "# 2. Debug"
   ]
  },
  {
   "cell_type": "code",
   "execution_count": 3,
   "id": "055ff2f5",
   "metadata": {},
   "outputs": [
    {
     "data": {
      "text/plain": [
       "ModelParams(model_name='RandomForestClassifier', pca_n_components=10, search_params={'n_estimators': {'min': 10, 'max': 1000, 'sampling_type': 'int'}, 'max_depth': {'min': 2, 'max': 10, 'sampling_type': 'int'}, 'min_samples_split': {'min': 2, 'max': 10, 'sampling_type': 'int'}, 'max_features': {'choices': ['sqrt', 'log2'], 'sampling_type': 'categorical'}})"
      ]
     },
     "execution_count": 3,
     "metadata": {},
     "output_type": "execute_result"
    }
   ],
   "source": [
    "ModelParams(\n",
    "    model_name=model_name,\n",
    "    pca_n_components=pca_n_components,\n",
    "    search_params=search_space,\n",
    ")"
   ]
  },
  {
   "cell_type": "code",
   "execution_count": null,
   "id": "9bb34ac0",
   "metadata": {},
   "outputs": [],
   "source": []
  },
  {
   "cell_type": "code",
   "execution_count": null,
   "id": "0d044340",
   "metadata": {},
   "outputs": [],
   "source": []
  }
 ],
 "metadata": {
  "kernelspec": {
   "display_name": ".venv (3.13.2)",
   "language": "python",
   "name": "python3"
  },
  "language_info": {
   "codemirror_mode": {
    "name": "ipython",
    "version": 3
   },
   "file_extension": ".py",
   "mimetype": "text/x-python",
   "name": "python",
   "nbconvert_exporter": "python",
   "pygments_lexer": "ipython3",
   "version": "3.13.2"
  }
 },
 "nbformat": 4,
 "nbformat_minor": 5
}
